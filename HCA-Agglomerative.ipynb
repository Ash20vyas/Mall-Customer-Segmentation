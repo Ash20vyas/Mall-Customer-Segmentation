{
 "cells": [
  {
   "cell_type": "code",
   "execution_count": 1,
   "metadata": {},
   "outputs": [],
   "source": [
    "import numpy as np\n",
    "import matplotlib.pyplot as plt\n",
    "import pandas as pd"
   ]
  },
  {
   "cell_type": "code",
   "execution_count": 2,
   "metadata": {},
   "outputs": [
    {
     "data": {
      "text/html": [
       "<div>\n",
       "<style scoped>\n",
       "    .dataframe tbody tr th:only-of-type {\n",
       "        vertical-align: middle;\n",
       "    }\n",
       "\n",
       "    .dataframe tbody tr th {\n",
       "        vertical-align: top;\n",
       "    }\n",
       "\n",
       "    .dataframe thead th {\n",
       "        text-align: right;\n",
       "    }\n",
       "</style>\n",
       "<table border=\"1\" class=\"dataframe\">\n",
       "  <thead>\n",
       "    <tr style=\"text-align: right;\">\n",
       "      <th></th>\n",
       "      <th>CustomerID</th>\n",
       "      <th>Genre</th>\n",
       "      <th>Age</th>\n",
       "      <th>Annual Income (k$)</th>\n",
       "      <th>Spending Score (1-100)</th>\n",
       "    </tr>\n",
       "  </thead>\n",
       "  <tbody>\n",
       "    <tr>\n",
       "      <th>0</th>\n",
       "      <td>1</td>\n",
       "      <td>Male</td>\n",
       "      <td>19</td>\n",
       "      <td>15</td>\n",
       "      <td>39</td>\n",
       "    </tr>\n",
       "    <tr>\n",
       "      <th>1</th>\n",
       "      <td>2</td>\n",
       "      <td>Male</td>\n",
       "      <td>21</td>\n",
       "      <td>15</td>\n",
       "      <td>81</td>\n",
       "    </tr>\n",
       "    <tr>\n",
       "      <th>2</th>\n",
       "      <td>3</td>\n",
       "      <td>Female</td>\n",
       "      <td>20</td>\n",
       "      <td>16</td>\n",
       "      <td>6</td>\n",
       "    </tr>\n",
       "    <tr>\n",
       "      <th>3</th>\n",
       "      <td>4</td>\n",
       "      <td>Female</td>\n",
       "      <td>23</td>\n",
       "      <td>16</td>\n",
       "      <td>77</td>\n",
       "    </tr>\n",
       "    <tr>\n",
       "      <th>4</th>\n",
       "      <td>5</td>\n",
       "      <td>Female</td>\n",
       "      <td>31</td>\n",
       "      <td>17</td>\n",
       "      <td>40</td>\n",
       "    </tr>\n",
       "    <tr>\n",
       "      <th>...</th>\n",
       "      <td>...</td>\n",
       "      <td>...</td>\n",
       "      <td>...</td>\n",
       "      <td>...</td>\n",
       "      <td>...</td>\n",
       "    </tr>\n",
       "    <tr>\n",
       "      <th>195</th>\n",
       "      <td>196</td>\n",
       "      <td>Female</td>\n",
       "      <td>35</td>\n",
       "      <td>120</td>\n",
       "      <td>79</td>\n",
       "    </tr>\n",
       "    <tr>\n",
       "      <th>196</th>\n",
       "      <td>197</td>\n",
       "      <td>Female</td>\n",
       "      <td>45</td>\n",
       "      <td>126</td>\n",
       "      <td>28</td>\n",
       "    </tr>\n",
       "    <tr>\n",
       "      <th>197</th>\n",
       "      <td>198</td>\n",
       "      <td>Male</td>\n",
       "      <td>32</td>\n",
       "      <td>126</td>\n",
       "      <td>74</td>\n",
       "    </tr>\n",
       "    <tr>\n",
       "      <th>198</th>\n",
       "      <td>199</td>\n",
       "      <td>Male</td>\n",
       "      <td>32</td>\n",
       "      <td>137</td>\n",
       "      <td>18</td>\n",
       "    </tr>\n",
       "    <tr>\n",
       "      <th>199</th>\n",
       "      <td>200</td>\n",
       "      <td>Male</td>\n",
       "      <td>30</td>\n",
       "      <td>137</td>\n",
       "      <td>83</td>\n",
       "    </tr>\n",
       "  </tbody>\n",
       "</table>\n",
       "<p>200 rows × 5 columns</p>\n",
       "</div>"
      ],
      "text/plain": [
       "     CustomerID   Genre  Age  Annual Income (k$)  Spending Score (1-100)\n",
       "0             1    Male   19                  15                      39\n",
       "1             2    Male   21                  15                      81\n",
       "2             3  Female   20                  16                       6\n",
       "3             4  Female   23                  16                      77\n",
       "4             5  Female   31                  17                      40\n",
       "..          ...     ...  ...                 ...                     ...\n",
       "195         196  Female   35                 120                      79\n",
       "196         197  Female   45                 126                      28\n",
       "197         198    Male   32                 126                      74\n",
       "198         199    Male   32                 137                      18\n",
       "199         200    Male   30                 137                      83\n",
       "\n",
       "[200 rows x 5 columns]"
      ]
     },
     "execution_count": 2,
     "metadata": {},
     "output_type": "execute_result"
    }
   ],
   "source": [
    "dataset = pd.read_csv('customers.csv')\n",
    "dataset"
   ]
  },
  {
   "cell_type": "code",
   "execution_count": 3,
   "metadata": {},
   "outputs": [],
   "source": [
    "X = dataset.iloc[:,[3,4]].values"
   ]
  },
  {
   "cell_type": "code",
   "execution_count": 4,
   "metadata": {},
   "outputs": [
    {
     "data": {
      "image/png": "[encoded data removed]",
      "text/plain": [
       "<Figure size 432x288 with 1 Axes>"
      ]
     },
     "metadata": {
      "needs_background": "light"
     },
     "output_type": "display_data"
    }
   ],
   "source": [
    "from scipy.cluster.hierarchy import dendrogram,average\n",
    "linkage_array_average = average(X)\n",
    "Dendrogram = dendrogram(linkage_array_average)"
   ]
  },
  {
   "cell_type": "markdown",
   "metadata": {},
   "source": [
    "So now from the dendrogram we can see that the number of clusters that should be formed is 7."
   ]
  },
  {
   "cell_type": "code",
   "execution_count": 5,
   "metadata": {},
   "outputs": [],
   "source": [
    "progression = [[i] for i in range(X.shape[0])]\n",
    "samples     = [[list(X[i])] for i in range(X.shape[0])]\n",
    "cluster_values = [None]*(len(samples))\n",
    "no_of_clusters = 7\n",
    "flag = 100 #flag is used to denote the distance between same point which will be 0 but will hamper calculation"
   ]
  },
  {
   "cell_type": "markdown",
   "metadata": {},
   "source": [
    "Function description:\n",
    "\n",
    "    dist_matrix_calc():\n",
    "    \n",
    "        ~This function is used to update values in distance_matrix after a cluster is formed.\n",
    "    \n",
    "        ~It first makes changes in the initial m*m distance_mat and then copies the data into a (m-1)*(m-1) matrix.\n",
    "    \n",
    "        ~The values are updated according to average linkage method."
   ]
  },
  {
   "cell_type": "code",
   "execution_count": 6,
   "metadata": {},
   "outputs": [],
   "source": [
    "def dist_matrix_calc(l,distance_mat,index_added):\n",
    "    matrix = np.empty((l,l))\n",
    "    \n",
    "    #updating data in distance_mat\n",
    "    for i in range(len(distance_mat)):\n",
    "        if distance_mat[index_added[0]][i] == flag or distance_mat[index_added[1]][i] == flag:\n",
    "            if distance_mat[index_added[0]][i] == flag:\n",
    "                distance_mat[index_added[0]][i] = flag\n",
    "        else:\n",
    "            distance_mat[index_added[0]][i] = (distance_mat[index_added[0]][i]\\\n",
    "                                                  +distance_mat[index_added[1]][i])/2\n",
    "        distance_mat[index_added[1]][i] =-1\n",
    "        \n",
    "    for i in range(len(distance_mat)):\n",
    "        if distance_mat[i][index_added[0]] == flag or distance_mat[i][index_added[1]] == flag:\n",
    "            if distance_mat[i][index_added[0]] == flag:\n",
    "                distance_mat[i][index_added[0]] = flag\n",
    "        else:\n",
    "            distance_mat[i][index_added[0]] = (distance_mat[i][index_added[0]]\\\n",
    "                                                  +distance_mat[i][index_added[1]])/2\n",
    "        distance_mat[i][index_added[1]] =-1\n",
    "        \n",
    "    #copying data into matrix while ignoring a row and a column\n",
    "    mm,nn=0,0\n",
    "    for i in range(l):\n",
    "        if distance_mat[mm][0]==-1:\n",
    "            mm+=1\n",
    "        nn=0\n",
    "        for j in range(l):\n",
    "            if distance_mat[mm][nn]==-1:\n",
    "                nn+=1\n",
    "            matrix[i][j]=distance_mat[mm][nn]\n",
    "            nn+=1\n",
    "        mm+=1\n",
    "    return matrix"
   ]
  },
  {
   "cell_type": "markdown",
   "metadata": {},
   "source": [
    "Function description:\n",
    "\n",
    "    1) initial_dist_compute(sample): This function is used to calculate the distance between all the solo points \n",
    "                                     at the beginning of clustering. this is only called once.\n",
    "                                     \n",
    "    2) dist_calculate(x1,x2)       : This function calculate the Euclidian distance between point x1 and x2"
   ]
  },
  {
   "cell_type": "code",
   "execution_count": 7,
   "metadata": {},
   "outputs": [],
   "source": [
    "def initial_dist_compute(sample):\n",
    "    l = len(sample)\n",
    "    matrix = np.zeros((l,l))\n",
    "    for i in range(l):\n",
    "        for j in range(l):\n",
    "            matrix[i][j]=flag if i==j else dist_calculate(sample[i][0],sample[j][0])\n",
    "    return matrix\n",
    "\n",
    "def dist_calculate(x1,x2):\n",
    "    return ((x1[0] - x2[0])**2 + (x1[1] - x2[1])**2)**0.5"
   ]
  },
  {
   "cell_type": "markdown",
   "metadata": {},
   "source": [
    "Function description:\n",
    "\n",
    "    removeNesting(): This is a recursive function which converts a nested list to a flat list.\n"
   ]
  },
  {
   "cell_type": "code",
   "execution_count": 8,
   "metadata": {},
   "outputs": [],
   "source": [
    "def removeNesting(l):\n",
    "    for i in l:\n",
    "        if type(i)==list:\n",
    "            removeNesting(i)\n",
    "        else:\n",
    "            output.append(i)"
   ]
  },
  {
   "cell_type": "code",
   "execution_count": 9,
   "metadata": {},
   "outputs": [],
   "source": [
    "m = len(progression)\n",
    "distance_matrix = initial_dist_compute(samples)\n",
    "\n",
    "while m>no_of_clusters:\n",
    "    # finding the index number of the smallest distance in the 'distance_matrix'\n",
    "    sample_ind_needed = np.unravel_index(distance_matrix.argmin(), distance_matrix.shape)\n",
    "    \n",
    "    # clustering data inside the 'progression' list\n",
    "    progression[sample_ind_needed[0]].append(progression[sample_ind_needed[1]])\n",
    "    progression[sample_ind_needed[0]] = [progression[sample_ind_needed[0]]]\n",
    "    progression.pop(sample_ind_needed[1])\n",
    "    \n",
    "    m=len(progression)\n",
    "    distance_matrix = dist_matrix_calc(m,distance_matrix,sample_ind_needed)\n",
    "    "
   ]
  },
  {
   "cell_type": "code",
   "execution_count": 10,
   "metadata": {},
   "outputs": [
    {
     "name": "stdout",
     "output_type": "stream",
     "text": [
      "[list([0, 4, 16, 20, 18, 26, 28, 38, 44, 40, 42, 2, 6, 8, 10, 12, 14, 22, 30, 32, 24, 34, 36])\n",
      " list([1, 3, 5, 13, 15, 9, 17, 27, 43, 51, 53, 45, 7, 11, 19, 21, 23, 31, 37, 39, 25, 29, 35, 33, 41])\n",
      " list([46, 50, 52, 60, 61, 70, 73, 63, 65, 68, 54, 57, 59, 67, 69, 56, 58, 62, 64, 66, 72, 47, 48, 49, 55, 71, 74, 77, 85, 79, 82, 83, 89, 96, 92, 97, 99, 95, 101, 109, 107, 113, 106, 110, 114, 115, 91, 93, 94, 98, 100, 105, 108, 112, 116, 118, 121, 75, 76, 81, 78, 80, 84, 86, 88, 87, 90, 102, 117, 103, 104, 111, 119, 120, 122])\n",
      " list([123, 127, 141, 145, 135, 143, 149, 155, 151, 161, 163, 167, 173, 175, 179, 181, 183, 125, 129, 131, 133, 137, 139, 147, 159, 153, 157, 165, 171, 169, 177, 185, 189, 193, 187, 191])\n",
      " list([124, 126, 132, 142, 146, 160, 128, 130, 138, 144, 134, 136, 140, 156, 158, 162, 148, 152, 150, 154, 164, 168, 166, 170, 174, 176, 172, 178, 182, 186, 190, 188, 180, 184])\n",
      " list([192, 194, 196, 198]) list([195, 197, 199])]\n"
     ]
    }
   ],
   "source": [
    "clusters = []\n",
    "for i in range(no_of_clusters):\n",
    "    output = []\n",
    "    a = removeNesting(progression[i])\n",
    "    clusters.append(output)\n",
    "print(np.array(clusters))"
   ]
  },
  {
   "cell_type": "code",
   "execution_count": 11,
   "metadata": {},
   "outputs": [
    {
     "data": {
      "text/plain": [
       "array([0, 1, 0, 1, 0, 1, 0, 1, 0, 1, 0, 1, 0, 1, 0, 1, 0, 1, 0, 1, 0, 1,\n",
       "       0, 1, 0, 1, 0, 1, 0, 1, 0, 1, 0, 1, 0, 1, 0, 1, 0, 1, 0, 1, 0, 1,\n",
       "       0, 1, 2, 2, 2, 2, 2, 1, 2, 1, 2, 2, 2, 2, 2, 2, 2, 2, 2, 2, 2, 2,\n",
       "       2, 2, 2, 2, 2, 2, 2, 2, 2, 2, 2, 2, 2, 2, 2, 2, 2, 2, 2, 2, 2, 2,\n",
       "       2, 2, 2, 2, 2, 2, 2, 2, 2, 2, 2, 2, 2, 2, 2, 2, 2, 2, 2, 2, 2, 2,\n",
       "       2, 2, 2, 2, 2, 2, 2, 2, 2, 2, 2, 2, 2, 3, 4, 3, 4, 3, 4, 3, 4, 3,\n",
       "       4, 3, 4, 3, 4, 3, 4, 3, 4, 3, 4, 3, 4, 3, 4, 3, 4, 3, 4, 3, 4, 3,\n",
       "       4, 3, 4, 3, 4, 3, 4, 3, 4, 3, 4, 3, 4, 3, 4, 3, 4, 3, 4, 3, 4, 3,\n",
       "       4, 3, 4, 3, 4, 3, 4, 3, 4, 3, 4, 3, 4, 3, 4, 3, 5, 3, 5, 6, 5, 6,\n",
       "       5, 6])"
      ]
     },
     "execution_count": 11,
     "metadata": {},
     "output_type": "execute_result"
    }
   ],
   "source": [
    "for i in range(len(clusters)):\n",
    "    for j in range(len(clusters[i])):\n",
    "        cluster_values[clusters[i][j]] = i\n",
    "np.array(cluster_values)"
   ]
  },
  {
   "cell_type": "code",
   "execution_count": 12,
   "metadata": {},
   "outputs": [
    {
     "data": {
      "image/png": "[encoded data removed]",
      "text/plain": [
       "<Figure size 432x288 with 1 Axes>"
      ]
     },
     "metadata": {
      "needs_background": "light"
     },
     "output_type": "display_data"
    }
   ],
   "source": [
    "plt.title('Clustering - HCA')\n",
    "plt.xlabel('Annual Income (k$)')\n",
    "plt.ylabel('Spending Score (1-100)')\n",
    "plt.scatter(X[:,0], X[:,1], c=cluster_values, cmap='rainbow')\n",
    "plt.show()"
   ]
  }
 ],
 "metadata": {
  "kernelspec": {
   "display_name": "Python 3",
   "language": "python",
   "name": "python3"
  },
  "language_info": {
   "codemirror_mode": {
    "name": "ipython",
    "version": 3
   },
   "file_extension": ".py",
   "mimetype": "text/x-python",
   "name": "python",
   "nbconvert_exporter": "python",
   "pygments_lexer": "ipython3",
   "version": "3.8.0"
  }
 },
 "nbformat": 4,
 "nbformat_minor": 4
}
